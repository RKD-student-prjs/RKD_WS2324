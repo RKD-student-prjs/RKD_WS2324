{
 "cells": [
  {
   "cell_type": "markdown",
   "id": "9e20253c",
   "metadata": {},
   "source": [
    "IP: 139.6.160.19\n",
    "\n",
    "PHPMyAdmin: http://139.6.160.19/phpmyadmin/\n",
    "\n",
    "mit folgenden Daten auf die DB \"RKD_DIS18_2122\"\n",
    "\n",
    "user: RKD_DIS18\n",
    "\n",
    "PW: Teams Channel"
   ]
  },
  {
   "cell_type": "code",
   "execution_count": null,
   "id": "fa2e1865",
   "metadata": {},
   "outputs": [],
   "source": [
    "#!pip install mariadb\n",
    "\n",
    "#Import Pandas, Mariadb und Sys\n",
    "import pandas as pd\n",
    "import mariadb\n",
    "import sys"
   ]
  },
  {
   "cell_type": "code",
   "execution_count": null,
   "id": "f2977aa8",
   "metadata": {},
   "outputs": [],
   "source": [
    "# Some other example server values are\n",
    "# server = 'localhost\\sqlexpress' # for a named instance\n",
    "# server = 'myserver,port' # to specify an alternate port\n",
    "db_host = '139.6.160.19' \n",
    "db_name = 'RKD_DIS18_2122' \n",
    "db_user = 'RKD_DIS18'\n",
    "db_port = 3306\n",
    "db_pw = '7UL0ov6wo5APAKs4'\n",
    "\n",
    "# Connect to MariaDB Platform\n",
    "try:\n",
    "    conn = mariadb.connect(\n",
    "        user=db_user,\n",
    "        password=db_pw,\n",
    "        host=db_host,\n",
    "        port=db_port,\n",
    "        database=db_name\n",
    "\n",
    "    )\n",
    "    print('Connected')\n",
    "except mariadb.Error as e:\n",
    "    print(f\"Error connecting to MariaDB Platform: {e}\")\n",
    "    sys.exit(1)\n",
    "\n",
    "# Get Cursor\n",
    "cur = conn.cursor()"
   ]
  },
  {
   "cell_type": "code",
   "execution_count": null,
   "id": "43726058",
   "metadata": {},
   "outputs": [],
   "source": [
    "query = \"\"\"SELECT person_id,\n",
    "                    full_name,\n",
    "                    links\n",
    "                    FROM persons\n",
    "                    WHERE status='Lehrbeauftragter';\"\"\"\n",
    "\n",
    "a = cur.execute(query)\n",
    "\n",
    "i = 0\n",
    "for person_id, full_name, links in cur:\n",
    "    i += 1\n",
    "print(str(i)+' Datensätze wurde geladen')\n",
    "\n",
    "df = pd.read_sql(query, conn)"
   ]
  },
  {
   "cell_type": "code",
   "execution_count": null,
   "id": "79254678",
   "metadata": {},
   "outputs": [],
   "source": [
    "new_prof = 'C:\\\\Users\\\\gunit\\\\github\\\\privat\\\\dis29_projektarbeit_excel_to_json\\\\data\\\\new_profs.xlsx'\n",
    "df.to_excel(new_prof)\n",
    "del df"
   ]
  },
  {
   "cell_type": "markdown",
   "id": "501ec9bf",
   "metadata": {},
   "source": [
    "# Format XLSX to JSON\n",
    "\n",
    "**Funktion import_merge_files**<br>\n",
    "`import_merge_files`\n",
    "- *moduldata*: Pfad zur Excel mit dem Inhalt der intellektuellen Erschließung\n",
    "- *modulsheet*: Name des Tabellenblatts\n",
    "- *profdata*: Pfad zur Excel mit dem Inhalt der Daten der Professoren\n",
    "- *profsheet*: Name des Tabellenblatts<br><br>\n",
    "Die Funktion ließt die beiden Excel-Tabellen in Dataframe und merged diese anhand der Professor-ID, das daraus entstehende Dataframe wird als `df_data` returned\n"
   ]
  },
  {
   "cell_type": "code",
   "execution_count": null,
   "id": "30ed8cf0",
   "metadata": {},
   "outputs": [],
   "source": [
    "# imports\n",
    "\n",
    "import pandas as pd\n",
    "import json\n",
    "import pprint\n",
    "\n",
    "import pandas as pd\n",
    "print (\"pandas\", pd.__version__)\n",
    "\n",
    "import numpy as np\n",
    "print (\"numpy\", np.__version__)"
   ]
  },
  {
   "cell_type": "code",
   "execution_count": null,
   "id": "56584005",
   "metadata": {},
   "outputs": [],
   "source": [
    "# -------- ANPASSBARE VARIABLEN ------------ #\n",
    "\n",
    "modul_db = 'C:\\\\Users\\\\felix\\\\data\\\\modul_db.xlsx' # pfad zu modul excel\n",
    "modul_db_sheet = 'tabelle1' # name des sheets der excel\n",
    "profs = 'C:\\\\Users\\\\felix\\\\data\\\\profs.xlsx' # pfad zu professoren excel\n",
    "profs_sheet = 'Tabelle1' # name des sheets der excel\n",
    "json_path = 'C:\\\\Users\\\\felix\\\\data\\\\output.json' =  # pfad zu output json"
   ]
  },
  {
   "cell_type": "code",
   "execution_count": null,
   "id": "9fd9f6e1",
   "metadata": {},
   "outputs": [],
   "source": [
    "def import_merge_files(moduldata, modulsheet, profdata, profsheet):\n",
    "    df_data = pd.read_excel(moduldata, sheet_name=modulsheet)\n",
    "    df_profs = pd.read_excel(profdata, sheet_name=profsheet)\n",
    "    \n",
    "    df_profs = df_profs.rename(columns={'person_id': 'ID_Prof'})\n",
    "    \n",
    "    final_json_df = pd.merge(df_data, df_profs, on=['ID_Prof'])\n",
    "    \n",
    "    return final_json_df\n",
    "\n",
    "df_data = import_merge_files(modul_db, modul_db_sheet, profs, profs_sheet)"
   ]
  },
  {
   "cell_type": "code",
   "execution_count": null,
   "id": "fb5ede1e",
   "metadata": {},
   "outputs": [],
   "source": [
    "df_data.head(5)"
   ]
  },
  {
   "cell_type": "code",
   "execution_count": null,
   "id": "2a2af5d4",
   "metadata": {},
   "outputs": [],
   "source": [
    "# Erstellen des Themengebiets\n",
    "\n",
    "final_json_df = df_data\n",
    "\n",
    "list_themen = []\n",
    "unterthemen = pd.unique(final_json_df['Unterthema'])\n",
    "for unterthema in unterthemen:\n",
    "    print(f' {unterthema}')\n",
    "    # Filtern des Dataframes aufs jeweilige Thema\n",
    "    hauptthema_df = final_json_df[final_json_df['Unterthema']==unterthema]\n",
    "    \n",
    "    # Erstellen der Fächer\n",
    "    faecher = pd.unique(hauptthema_df['Neue_Version'])\n",
    "    \n",
    "    list_faecher = []\n",
    "    for fach in faecher:\n",
    "        # ---\n",
    "        \n",
    "        # Splitte Fach in einzelene Fächer auf\n",
    "        try:\n",
    "            fach_multi = fach.split(';')\n",
    "        # wenn nötig\n",
    "        except:\n",
    "            fach = fach\n",
    "        \n",
    "        print(f'- {fach}')\n",
    "        \n",
    "        # Filtern des Dataframes aufs jeweilige Fach\n",
    "        fach_df = hauptthema_df[hauptthema_df['Neue_Version']==fach]\n",
    "\n",
    "        # Erstellen des Profs\n",
    "        list_profs = []\n",
    "        profs = pd.unique(fach_df['ID_Prof'])\n",
    "        for prof in profs:\n",
    "            print(f'-- {prof}')\n",
    "            prof_df = fach_df[fach_df['ID_Prof']==prof]\n",
    "            name = prof_df.iloc[0]['full_name']\n",
    "            link = prof_df.iloc[0]['links']\n",
    "            \n",
    "            # create prof dict\n",
    "            dict_prof = {}\n",
    "            dict_prof['id'] = prof\n",
    "            dict_prof['name'] = name\n",
    "            dict_prof['links'] = link\n",
    "            list_profs.append(dict_prof)\n",
    "            \n",
    "        # create fach dict\n",
    "        dict_fach = {}\n",
    "        dict_fach['fach'] = fach_multi # ? v2.0\n",
    "        dict_fach['professoren'] = list_profs\n",
    "        list_faecher.append(dict_fach)\n",
    "    \n",
    "    # create themengebiete\n",
    "    dict_themen = {}\n",
    "    dict_themen['themengebiet'] = unterthema\n",
    "    dict_themen['faecher'] = list_faecher\n",
    "    list_themen.append(dict_themen)"
   ]
  },
  {
   "cell_type": "code",
   "execution_count": null,
   "id": "4a1580d5",
   "metadata": {},
   "outputs": [],
   "source": [
    "def np_encoder(object):\n",
    "    if isinstance(object, np.generic):\n",
    "        return object.item()\n",
    "\n",
    "json_string = json.dumps(list_themen, default=np_encoder)"
   ]
  },
  {
   "cell_type": "code",
   "execution_count": null,
   "id": "8594f1d1",
   "metadata": {},
   "outputs": [],
   "source": [
    "with open(json_path, 'w') as f:\n",
    "    json.dump(json_string, f)"
   ]
  }
 ],
 "metadata": {
  "kernelspec": {
   "display_name": "Python 3 (ipykernel)",
   "language": "python",
   "name": "python3"
  },
  "language_info": {
   "codemirror_mode": {
    "name": "ipython",
    "version": 3
   },
   "file_extension": ".py",
   "mimetype": "text/x-python",
   "name": "python",
   "nbconvert_exporter": "python",
   "pygments_lexer": "ipython3",
   "version": "3.9.16"
  }
 },
 "nbformat": 4,
 "nbformat_minor": 5
}
